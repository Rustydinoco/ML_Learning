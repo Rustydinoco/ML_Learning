{
  "nbformat": 4,
  "nbformat_minor": 0,
  "metadata": {
    "colab": {
      "provenance": [],
      "authorship_tag": "ABX9TyNPp+wbJD7w0qs9o6OmB6eN",
      "include_colab_link": true
    },
    "kernelspec": {
      "name": "python3",
      "display_name": "Python 3"
    },
    "language_info": {
      "name": "python"
    }
  },
  "cells": [
    {
      "cell_type": "markdown",
      "metadata": {
        "id": "view-in-github",
        "colab_type": "text"
      },
      "source": [
        "<a href=\"https://colab.research.google.com/github/Rustydinoco/ML_Learning/blob/master/LSTM_S%24P_500_Prediction.ipynb\" target=\"_parent\"><img src=\"https://colab.research.google.com/assets/colab-badge.svg\" alt=\"Open In Colab\"/></a>"
      ]
    },
    {
      "cell_type": "code",
      "execution_count": 1,
      "metadata": {
        "id": "lw7TYtYCFjCv"
      },
      "outputs": [],
      "source": [
        "import torch\n",
        "import torch.nn as nn\n",
        "import torch.nn.functional as f\n",
        "import pandas as pd\n",
        "import numpy as np\n",
        "import matplotlib.pyplot as plt\n",
        "import yfinance as yf\n",
        "from sklearn.model_selection import train_test_split\n",
        "from sklearn.preprocessing import MinMaxScaler\n",
        "from torch.utils.data import DataLoader, TensorDataset\n",
        "%matplotlib inline"
      ]
    },
    {
      "cell_type": "code",
      "source": [
        "ticker = \"^GSPC\"\n",
        "df = yf.download(ticker, start=\"2010-01-01\",end=\"2025-01-01\")\n",
        "df"
      ],
      "metadata": {
        "colab": {
          "base_uri": "https://localhost:8080/",
          "height": 538
        },
        "id": "Wf1BRL6cRfmb",
        "outputId": "8d373d43-7972-4be6-d33a-7d8c87e6f50a"
      },
      "execution_count": 2,
      "outputs": [
        {
          "output_type": "stream",
          "name": "stderr",
          "text": [
            "/tmp/ipython-input-2-2763882120.py:2: FutureWarning: YF.download() has changed argument auto_adjust default to True\n",
            "  df = yf.download(ticker, start=\"2010-01-01\",end=\"2025-01-01\")\n",
            "[*********************100%***********************]  1 of 1 completed\n"
          ]
        },
        {
          "output_type": "execute_result",
          "data": {
            "text/plain": [
              "Price             Close         High          Low         Open      Volume\n",
              "Ticker            ^GSPC        ^GSPC        ^GSPC        ^GSPC       ^GSPC\n",
              "Date                                                                      \n",
              "2010-01-04  1132.989990  1133.869995  1116.560059  1116.560059  3991400000\n",
              "2010-01-05  1136.520020  1136.630005  1129.660034  1132.660034  2491020000\n",
              "2010-01-06  1137.140015  1139.189941  1133.949951  1135.709961  4972660000\n",
              "2010-01-07  1141.689941  1142.459961  1131.319946  1136.270020  5270680000\n",
              "2010-01-08  1144.979980  1145.390015  1136.219971  1140.520020  4389590000\n",
              "...                 ...          ...          ...          ...         ...\n",
              "2024-12-24  6040.040039  6040.100098  5981.439941  5984.629883  1757720000\n",
              "2024-12-26  6037.589844  6049.750000  6007.370117  6024.970215  2904530000\n",
              "2024-12-27  5970.839844  6006.169922  5932.950195  6006.169922  3159610000\n",
              "2024-12-30  5906.939941  5940.790039  5869.160156  5920.669922  3433250000\n",
              "2024-12-31  5881.629883  5929.740234  5868.859863  5919.740234  3128350000\n",
              "\n",
              "[3774 rows x 5 columns]"
            ],
            "text/html": [
              "\n",
              "  <div id=\"df-7830f24d-c23f-4a7b-af7b-34a72ca3a1b5\" class=\"colab-df-container\">\n",
              "    <div>\n",
              "<style scoped>\n",
              "    .dataframe tbody tr th:only-of-type {\n",
              "        vertical-align: middle;\n",
              "    }\n",
              "\n",
              "    .dataframe tbody tr th {\n",
              "        vertical-align: top;\n",
              "    }\n",
              "\n",
              "    .dataframe thead tr th {\n",
              "        text-align: left;\n",
              "    }\n",
              "\n",
              "    .dataframe thead tr:last-of-type th {\n",
              "        text-align: right;\n",
              "    }\n",
              "</style>\n",
              "<table border=\"1\" class=\"dataframe\">\n",
              "  <thead>\n",
              "    <tr>\n",
              "      <th>Price</th>\n",
              "      <th>Close</th>\n",
              "      <th>High</th>\n",
              "      <th>Low</th>\n",
              "      <th>Open</th>\n",
              "      <th>Volume</th>\n",
              "    </tr>\n",
              "    <tr>\n",
              "      <th>Ticker</th>\n",
              "      <th>^GSPC</th>\n",
              "      <th>^GSPC</th>\n",
              "      <th>^GSPC</th>\n",
              "      <th>^GSPC</th>\n",
              "      <th>^GSPC</th>\n",
              "    </tr>\n",
              "    <tr>\n",
              "      <th>Date</th>\n",
              "      <th></th>\n",
              "      <th></th>\n",
              "      <th></th>\n",
              "      <th></th>\n",
              "      <th></th>\n",
              "    </tr>\n",
              "  </thead>\n",
              "  <tbody>\n",
              "    <tr>\n",
              "      <th>2010-01-04</th>\n",
              "      <td>1132.989990</td>\n",
              "      <td>1133.869995</td>\n",
              "      <td>1116.560059</td>\n",
              "      <td>1116.560059</td>\n",
              "      <td>3991400000</td>\n",
              "    </tr>\n",
              "    <tr>\n",
              "      <th>2010-01-05</th>\n",
              "      <td>1136.520020</td>\n",
              "      <td>1136.630005</td>\n",
              "      <td>1129.660034</td>\n",
              "      <td>1132.660034</td>\n",
              "      <td>2491020000</td>\n",
              "    </tr>\n",
              "    <tr>\n",
              "      <th>2010-01-06</th>\n",
              "      <td>1137.140015</td>\n",
              "      <td>1139.189941</td>\n",
              "      <td>1133.949951</td>\n",
              "      <td>1135.709961</td>\n",
              "      <td>4972660000</td>\n",
              "    </tr>\n",
              "    <tr>\n",
              "      <th>2010-01-07</th>\n",
              "      <td>1141.689941</td>\n",
              "      <td>1142.459961</td>\n",
              "      <td>1131.319946</td>\n",
              "      <td>1136.270020</td>\n",
              "      <td>5270680000</td>\n",
              "    </tr>\n",
              "    <tr>\n",
              "      <th>2010-01-08</th>\n",
              "      <td>1144.979980</td>\n",
              "      <td>1145.390015</td>\n",
              "      <td>1136.219971</td>\n",
              "      <td>1140.520020</td>\n",
              "      <td>4389590000</td>\n",
              "    </tr>\n",
              "    <tr>\n",
              "      <th>...</th>\n",
              "      <td>...</td>\n",
              "      <td>...</td>\n",
              "      <td>...</td>\n",
              "      <td>...</td>\n",
              "      <td>...</td>\n",
              "    </tr>\n",
              "    <tr>\n",
              "      <th>2024-12-24</th>\n",
              "      <td>6040.040039</td>\n",
              "      <td>6040.100098</td>\n",
              "      <td>5981.439941</td>\n",
              "      <td>5984.629883</td>\n",
              "      <td>1757720000</td>\n",
              "    </tr>\n",
              "    <tr>\n",
              "      <th>2024-12-26</th>\n",
              "      <td>6037.589844</td>\n",
              "      <td>6049.750000</td>\n",
              "      <td>6007.370117</td>\n",
              "      <td>6024.970215</td>\n",
              "      <td>2904530000</td>\n",
              "    </tr>\n",
              "    <tr>\n",
              "      <th>2024-12-27</th>\n",
              "      <td>5970.839844</td>\n",
              "      <td>6006.169922</td>\n",
              "      <td>5932.950195</td>\n",
              "      <td>6006.169922</td>\n",
              "      <td>3159610000</td>\n",
              "    </tr>\n",
              "    <tr>\n",
              "      <th>2024-12-30</th>\n",
              "      <td>5906.939941</td>\n",
              "      <td>5940.790039</td>\n",
              "      <td>5869.160156</td>\n",
              "      <td>5920.669922</td>\n",
              "      <td>3433250000</td>\n",
              "    </tr>\n",
              "    <tr>\n",
              "      <th>2024-12-31</th>\n",
              "      <td>5881.629883</td>\n",
              "      <td>5929.740234</td>\n",
              "      <td>5868.859863</td>\n",
              "      <td>5919.740234</td>\n",
              "      <td>3128350000</td>\n",
              "    </tr>\n",
              "  </tbody>\n",
              "</table>\n",
              "<p>3774 rows × 5 columns</p>\n",
              "</div>\n",
              "    <div class=\"colab-df-buttons\">\n",
              "\n",
              "  <div class=\"colab-df-container\">\n",
              "    <button class=\"colab-df-convert\" onclick=\"convertToInteractive('df-7830f24d-c23f-4a7b-af7b-34a72ca3a1b5')\"\n",
              "            title=\"Convert this dataframe to an interactive table.\"\n",
              "            style=\"display:none;\">\n",
              "\n",
              "  <svg xmlns=\"http://www.w3.org/2000/svg\" height=\"24px\" viewBox=\"0 -960 960 960\">\n",
              "    <path d=\"M120-120v-720h720v720H120Zm60-500h600v-160H180v160Zm220 220h160v-160H400v160Zm0 220h160v-160H400v160ZM180-400h160v-160H180v160Zm440 0h160v-160H620v160ZM180-180h160v-160H180v160Zm440 0h160v-160H620v160Z\"/>\n",
              "  </svg>\n",
              "    </button>\n",
              "\n",
              "  <style>\n",
              "    .colab-df-container {\n",
              "      display:flex;\n",
              "      gap: 12px;\n",
              "    }\n",
              "\n",
              "    .colab-df-convert {\n",
              "      background-color: #E8F0FE;\n",
              "      border: none;\n",
              "      border-radius: 50%;\n",
              "      cursor: pointer;\n",
              "      display: none;\n",
              "      fill: #1967D2;\n",
              "      height: 32px;\n",
              "      padding: 0 0 0 0;\n",
              "      width: 32px;\n",
              "    }\n",
              "\n",
              "    .colab-df-convert:hover {\n",
              "      background-color: #E2EBFA;\n",
              "      box-shadow: 0px 1px 2px rgba(60, 64, 67, 0.3), 0px 1px 3px 1px rgba(60, 64, 67, 0.15);\n",
              "      fill: #174EA6;\n",
              "    }\n",
              "\n",
              "    .colab-df-buttons div {\n",
              "      margin-bottom: 4px;\n",
              "    }\n",
              "\n",
              "    [theme=dark] .colab-df-convert {\n",
              "      background-color: #3B4455;\n",
              "      fill: #D2E3FC;\n",
              "    }\n",
              "\n",
              "    [theme=dark] .colab-df-convert:hover {\n",
              "      background-color: #434B5C;\n",
              "      box-shadow: 0px 1px 3px 1px rgba(0, 0, 0, 0.15);\n",
              "      filter: drop-shadow(0px 1px 2px rgba(0, 0, 0, 0.3));\n",
              "      fill: #FFFFFF;\n",
              "    }\n",
              "  </style>\n",
              "\n",
              "    <script>\n",
              "      const buttonEl =\n",
              "        document.querySelector('#df-7830f24d-c23f-4a7b-af7b-34a72ca3a1b5 button.colab-df-convert');\n",
              "      buttonEl.style.display =\n",
              "        google.colab.kernel.accessAllowed ? 'block' : 'none';\n",
              "\n",
              "      async function convertToInteractive(key) {\n",
              "        const element = document.querySelector('#df-7830f24d-c23f-4a7b-af7b-34a72ca3a1b5');\n",
              "        const dataTable =\n",
              "          await google.colab.kernel.invokeFunction('convertToInteractive',\n",
              "                                                    [key], {});\n",
              "        if (!dataTable) return;\n",
              "\n",
              "        const docLinkHtml = 'Like what you see? Visit the ' +\n",
              "          '<a target=\"_blank\" href=https://colab.research.google.com/notebooks/data_table.ipynb>data table notebook</a>'\n",
              "          + ' to learn more about interactive tables.';\n",
              "        element.innerHTML = '';\n",
              "        dataTable['output_type'] = 'display_data';\n",
              "        await google.colab.output.renderOutput(dataTable, element);\n",
              "        const docLink = document.createElement('div');\n",
              "        docLink.innerHTML = docLinkHtml;\n",
              "        element.appendChild(docLink);\n",
              "      }\n",
              "    </script>\n",
              "  </div>\n",
              "\n",
              "\n",
              "    <div id=\"df-e92d1782-259d-4240-a92e-d985b080900b\">\n",
              "      <button class=\"colab-df-quickchart\" onclick=\"quickchart('df-e92d1782-259d-4240-a92e-d985b080900b')\"\n",
              "                title=\"Suggest charts\"\n",
              "                style=\"display:none;\">\n",
              "\n",
              "<svg xmlns=\"http://www.w3.org/2000/svg\" height=\"24px\"viewBox=\"0 0 24 24\"\n",
              "     width=\"24px\">\n",
              "    <g>\n",
              "        <path d=\"M19 3H5c-1.1 0-2 .9-2 2v14c0 1.1.9 2 2 2h14c1.1 0 2-.9 2-2V5c0-1.1-.9-2-2-2zM9 17H7v-7h2v7zm4 0h-2V7h2v10zm4 0h-2v-4h2v4z\"/>\n",
              "    </g>\n",
              "</svg>\n",
              "      </button>\n",
              "\n",
              "<style>\n",
              "  .colab-df-quickchart {\n",
              "      --bg-color: #E8F0FE;\n",
              "      --fill-color: #1967D2;\n",
              "      --hover-bg-color: #E2EBFA;\n",
              "      --hover-fill-color: #174EA6;\n",
              "      --disabled-fill-color: #AAA;\n",
              "      --disabled-bg-color: #DDD;\n",
              "  }\n",
              "\n",
              "  [theme=dark] .colab-df-quickchart {\n",
              "      --bg-color: #3B4455;\n",
              "      --fill-color: #D2E3FC;\n",
              "      --hover-bg-color: #434B5C;\n",
              "      --hover-fill-color: #FFFFFF;\n",
              "      --disabled-bg-color: #3B4455;\n",
              "      --disabled-fill-color: #666;\n",
              "  }\n",
              "\n",
              "  .colab-df-quickchart {\n",
              "    background-color: var(--bg-color);\n",
              "    border: none;\n",
              "    border-radius: 50%;\n",
              "    cursor: pointer;\n",
              "    display: none;\n",
              "    fill: var(--fill-color);\n",
              "    height: 32px;\n",
              "    padding: 0;\n",
              "    width: 32px;\n",
              "  }\n",
              "\n",
              "  .colab-df-quickchart:hover {\n",
              "    background-color: var(--hover-bg-color);\n",
              "    box-shadow: 0 1px 2px rgba(60, 64, 67, 0.3), 0 1px 3px 1px rgba(60, 64, 67, 0.15);\n",
              "    fill: var(--button-hover-fill-color);\n",
              "  }\n",
              "\n",
              "  .colab-df-quickchart-complete:disabled,\n",
              "  .colab-df-quickchart-complete:disabled:hover {\n",
              "    background-color: var(--disabled-bg-color);\n",
              "    fill: var(--disabled-fill-color);\n",
              "    box-shadow: none;\n",
              "  }\n",
              "\n",
              "  .colab-df-spinner {\n",
              "    border: 2px solid var(--fill-color);\n",
              "    border-color: transparent;\n",
              "    border-bottom-color: var(--fill-color);\n",
              "    animation:\n",
              "      spin 1s steps(1) infinite;\n",
              "  }\n",
              "\n",
              "  @keyframes spin {\n",
              "    0% {\n",
              "      border-color: transparent;\n",
              "      border-bottom-color: var(--fill-color);\n",
              "      border-left-color: var(--fill-color);\n",
              "    }\n",
              "    20% {\n",
              "      border-color: transparent;\n",
              "      border-left-color: var(--fill-color);\n",
              "      border-top-color: var(--fill-color);\n",
              "    }\n",
              "    30% {\n",
              "      border-color: transparent;\n",
              "      border-left-color: var(--fill-color);\n",
              "      border-top-color: var(--fill-color);\n",
              "      border-right-color: var(--fill-color);\n",
              "    }\n",
              "    40% {\n",
              "      border-color: transparent;\n",
              "      border-right-color: var(--fill-color);\n",
              "      border-top-color: var(--fill-color);\n",
              "    }\n",
              "    60% {\n",
              "      border-color: transparent;\n",
              "      border-right-color: var(--fill-color);\n",
              "    }\n",
              "    80% {\n",
              "      border-color: transparent;\n",
              "      border-right-color: var(--fill-color);\n",
              "      border-bottom-color: var(--fill-color);\n",
              "    }\n",
              "    90% {\n",
              "      border-color: transparent;\n",
              "      border-bottom-color: var(--fill-color);\n",
              "    }\n",
              "  }\n",
              "</style>\n",
              "\n",
              "      <script>\n",
              "        async function quickchart(key) {\n",
              "          const quickchartButtonEl =\n",
              "            document.querySelector('#' + key + ' button');\n",
              "          quickchartButtonEl.disabled = true;  // To prevent multiple clicks.\n",
              "          quickchartButtonEl.classList.add('colab-df-spinner');\n",
              "          try {\n",
              "            const charts = await google.colab.kernel.invokeFunction(\n",
              "                'suggestCharts', [key], {});\n",
              "          } catch (error) {\n",
              "            console.error('Error during call to suggestCharts:', error);\n",
              "          }\n",
              "          quickchartButtonEl.classList.remove('colab-df-spinner');\n",
              "          quickchartButtonEl.classList.add('colab-df-quickchart-complete');\n",
              "        }\n",
              "        (() => {\n",
              "          let quickchartButtonEl =\n",
              "            document.querySelector('#df-e92d1782-259d-4240-a92e-d985b080900b button');\n",
              "          quickchartButtonEl.style.display =\n",
              "            google.colab.kernel.accessAllowed ? 'block' : 'none';\n",
              "        })();\n",
              "      </script>\n",
              "    </div>\n",
              "\n",
              "  <div id=\"id_4d606368-eaa1-4e74-b3f7-ca9ff5837096\">\n",
              "    <style>\n",
              "      .colab-df-generate {\n",
              "        background-color: #E8F0FE;\n",
              "        border: none;\n",
              "        border-radius: 50%;\n",
              "        cursor: pointer;\n",
              "        display: none;\n",
              "        fill: #1967D2;\n",
              "        height: 32px;\n",
              "        padding: 0 0 0 0;\n",
              "        width: 32px;\n",
              "      }\n",
              "\n",
              "      .colab-df-generate:hover {\n",
              "        background-color: #E2EBFA;\n",
              "        box-shadow: 0px 1px 2px rgba(60, 64, 67, 0.3), 0px 1px 3px 1px rgba(60, 64, 67, 0.15);\n",
              "        fill: #174EA6;\n",
              "      }\n",
              "\n",
              "      [theme=dark] .colab-df-generate {\n",
              "        background-color: #3B4455;\n",
              "        fill: #D2E3FC;\n",
              "      }\n",
              "\n",
              "      [theme=dark] .colab-df-generate:hover {\n",
              "        background-color: #434B5C;\n",
              "        box-shadow: 0px 1px 3px 1px rgba(0, 0, 0, 0.15);\n",
              "        filter: drop-shadow(0px 1px 2px rgba(0, 0, 0, 0.3));\n",
              "        fill: #FFFFFF;\n",
              "      }\n",
              "    </style>\n",
              "    <button class=\"colab-df-generate\" onclick=\"generateWithVariable('df')\"\n",
              "            title=\"Generate code using this dataframe.\"\n",
              "            style=\"display:none;\">\n",
              "\n",
              "  <svg xmlns=\"http://www.w3.org/2000/svg\" height=\"24px\"viewBox=\"0 0 24 24\"\n",
              "       width=\"24px\">\n",
              "    <path d=\"M7,19H8.4L18.45,9,17,7.55,7,17.6ZM5,21V16.75L18.45,3.32a2,2,0,0,1,2.83,0l1.4,1.43a1.91,1.91,0,0,1,.58,1.4,1.91,1.91,0,0,1-.58,1.4L9.25,21ZM18.45,9,17,7.55Zm-12,3A5.31,5.31,0,0,0,4.9,8.1,5.31,5.31,0,0,0,1,6.5,5.31,5.31,0,0,0,4.9,4.9,5.31,5.31,0,0,0,6.5,1,5.31,5.31,0,0,0,8.1,4.9,5.31,5.31,0,0,0,12,6.5,5.46,5.46,0,0,0,6.5,12Z\"/>\n",
              "  </svg>\n",
              "    </button>\n",
              "    <script>\n",
              "      (() => {\n",
              "      const buttonEl =\n",
              "        document.querySelector('#id_4d606368-eaa1-4e74-b3f7-ca9ff5837096 button.colab-df-generate');\n",
              "      buttonEl.style.display =\n",
              "        google.colab.kernel.accessAllowed ? 'block' : 'none';\n",
              "\n",
              "      buttonEl.onclick = () => {\n",
              "        google.colab.notebook.generateWithVariable('df');\n",
              "      }\n",
              "      })();\n",
              "    </script>\n",
              "  </div>\n",
              "\n",
              "    </div>\n",
              "  </div>\n"
            ],
            "application/vnd.google.colaboratory.intrinsic+json": {
              "type": "dataframe",
              "variable_name": "df",
              "summary": "{\n  \"name\": \"df\",\n  \"rows\": 3774,\n  \"fields\": [\n    {\n      \"column\": [\n        \"Date\",\n        \"\"\n      ],\n      \"properties\": {\n        \"dtype\": \"date\",\n        \"min\": \"2010-01-04 00:00:00\",\n        \"max\": \"2024-12-31 00:00:00\",\n        \"num_unique_values\": 3774,\n        \"samples\": [\n          \"2010-05-18 00:00:00\",\n          \"2024-12-27 00:00:00\",\n          \"2020-06-24 00:00:00\"\n        ],\n        \"semantic_type\": \"\",\n        \"description\": \"\"\n      }\n    },\n    {\n      \"column\": [\n        \"Close\",\n        \"^GSPC\"\n      ],\n      \"properties\": {\n        \"dtype\": \"number\",\n        \"std\": 1264.9904922461747,\n        \"min\": 1022.5800170898438,\n        \"max\": 6090.27001953125,\n        \"num_unique_values\": 3756,\n        \"samples\": [\n          2846.070068359375,\n          1877.030029296875,\n          4108.93994140625\n        ],\n        \"semantic_type\": \"\",\n        \"description\": \"\"\n      }\n    },\n    {\n      \"column\": [\n        \"High\",\n        \"^GSPC\"\n      ],\n      \"properties\": {\n        \"dtype\": \"number\",\n        \"std\": 1271.2994192740873,\n        \"min\": 1032.949951171875,\n        \"max\": 6099.97021484375,\n        \"num_unique_values\": 3743,\n        \"samples\": [\n          4449.9501953125,\n          1959.8900146484375,\n          1328.510009765625\n        ],\n        \"semantic_type\": \"\",\n        \"description\": \"\"\n      }\n    },\n    {\n      \"column\": [\n        \"Low\",\n        \"^GSPC\"\n      ],\n      \"properties\": {\n        \"dtype\": \"number\",\n        \"std\": 1258.1931093656299,\n        \"min\": 1010.9099731445312,\n        \"max\": 6079.97998046875,\n        \"num_unique_values\": 3753,\n        \"samples\": [\n          2835.97998046875,\n          1863.8800048828125,\n          4072.550048828125\n        ],\n        \"semantic_type\": \"\",\n        \"description\": \"\"\n      }\n    },\n    {\n      \"column\": [\n        \"Open\",\n        \"^GSPC\"\n      ],\n      \"properties\": {\n        \"dtype\": \"number\",\n        \"std\": 1264.9408532650973,\n        \"min\": 1027.6500244140625,\n        \"max\": 6089.02978515625,\n        \"num_unique_values\": 3749,\n        \"samples\": [\n          4535.41015625,\n          4053.719970703125,\n          1316.3599853515625\n        ],\n        \"semantic_type\": \"\",\n        \"description\": \"\"\n      }\n    },\n    {\n      \"column\": [\n        \"Volume\",\n        \"^GSPC\"\n      ],\n      \"properties\": {\n        \"dtype\": \"number\",\n        \"std\": 951368397,\n        \"min\": 0,\n        \"max\": 10617810000,\n        \"num_unique_values\": 3713,\n        \"samples\": [\n          4283640000,\n          4733660000,\n          4053970000\n        ],\n        \"semantic_type\": \"\",\n        \"description\": \"\"\n      }\n    }\n  ]\n}"
            }
          },
          "metadata": {},
          "execution_count": 2
        }
      ]
    },
    {
      "cell_type": "code",
      "source": [
        "close_price = df[\"Close\"]\n",
        "\n",
        "plt.figure(figsize=(14, 6))\n",
        "plt.title(f\"Close Price history for {ticker}\")\n",
        "plt.plot(df[\"Close\"])\n",
        "plt.xlabel(\"Date\")\n",
        "plt.ylabel(\"Close Price USD\")\n",
        "plt.grid(True)\n",
        "plt.show()"
      ],
      "metadata": {
        "colab": {
          "base_uri": "https://localhost:8080/",
          "height": 564
        },
        "id": "i-e16MAkSoff",
        "outputId": "9da3abd1-72e7-438a-91c0-fee01dcc101a"
      },
      "execution_count": 3,
      "outputs": [
        {
          "output_type": "display_data",
          "data": {
            "text/plain": [
              "<Figure size 1400x600 with 1 Axes>"
            ],
            "image/png": "[encoded data removed]"
          },
          "metadata": {}
        }
      ]
    },
    {
      "cell_type": "code",
      "source": [
        "df.info()"
      ],
      "metadata": {
        "colab": {
          "base_uri": "https://localhost:8080/"
        },
        "id": "LurNgu5YSOZN",
        "outputId": "13380540-9d1a-4d84-b49b-29845ab3860d"
      },
      "execution_count": 4,
      "outputs": [
        {
          "output_type": "stream",
          "name": "stdout",
          "text": [
            "<class 'pandas.core.frame.DataFrame'>\n",
            "DatetimeIndex: 3774 entries, 2010-01-04 to 2024-12-31\n",
            "Data columns (total 5 columns):\n",
            " #   Column           Non-Null Count  Dtype  \n",
            "---  ------           --------------  -----  \n",
            " 0   (Close, ^GSPC)   3774 non-null   float64\n",
            " 1   (High, ^GSPC)    3774 non-null   float64\n",
            " 2   (Low, ^GSPC)     3774 non-null   float64\n",
            " 3   (Open, ^GSPC)    3774 non-null   float64\n",
            " 4   (Volume, ^GSPC)  3774 non-null   int64  \n",
            "dtypes: float64(4), int64(1)\n",
            "memory usage: 176.9 KB\n"
          ]
        }
      ]
    },
    {
      "cell_type": "code",
      "source": [
        "df.shape"
      ],
      "metadata": {
        "colab": {
          "base_uri": "https://localhost:8080/"
        },
        "id": "J2N8JBA-TwVS",
        "outputId": "bff0df54-1c48-4864-b02e-631e8a01b1e2"
      },
      "execution_count": 5,
      "outputs": [
        {
          "output_type": "execute_result",
          "data": {
            "text/plain": [
              "(3774, 5)"
            ]
          },
          "metadata": {},
          "execution_count": 5
        }
      ]
    },
    {
      "cell_type": "code",
      "source": [
        "df.isnull().sum()"
      ],
      "metadata": {
        "colab": {
          "base_uri": "https://localhost:8080/",
          "height": 272
        },
        "id": "W5eVOEoHT0h1",
        "outputId": "cb471364-f7fd-4060-8007-527df722db20"
      },
      "execution_count": 6,
      "outputs": [
        {
          "output_type": "execute_result",
          "data": {
            "text/plain": [
              "Price   Ticker\n",
              "Close   ^GSPC     0\n",
              "High    ^GSPC     0\n",
              "Low     ^GSPC     0\n",
              "Open    ^GSPC     0\n",
              "Volume  ^GSPC     0\n",
              "dtype: int64"
            ],
            "text/html": [
              "<div>\n",
              "<style scoped>\n",
              "    .dataframe tbody tr th:only-of-type {\n",
              "        vertical-align: middle;\n",
              "    }\n",
              "\n",
              "    .dataframe tbody tr th {\n",
              "        vertical-align: top;\n",
              "    }\n",
              "\n",
              "    .dataframe thead th {\n",
              "        text-align: right;\n",
              "    }\n",
              "</style>\n",
              "<table border=\"1\" class=\"dataframe\">\n",
              "  <thead>\n",
              "    <tr style=\"text-align: right;\">\n",
              "      <th></th>\n",
              "      <th></th>\n",
              "      <th>0</th>\n",
              "    </tr>\n",
              "    <tr>\n",
              "      <th>Price</th>\n",
              "      <th>Ticker</th>\n",
              "      <th></th>\n",
              "    </tr>\n",
              "  </thead>\n",
              "  <tbody>\n",
              "    <tr>\n",
              "      <th>Close</th>\n",
              "      <th>^GSPC</th>\n",
              "      <td>0</td>\n",
              "    </tr>\n",
              "    <tr>\n",
              "      <th>High</th>\n",
              "      <th>^GSPC</th>\n",
              "      <td>0</td>\n",
              "    </tr>\n",
              "    <tr>\n",
              "      <th>Low</th>\n",
              "      <th>^GSPC</th>\n",
              "      <td>0</td>\n",
              "    </tr>\n",
              "    <tr>\n",
              "      <th>Open</th>\n",
              "      <th>^GSPC</th>\n",
              "      <td>0</td>\n",
              "    </tr>\n",
              "    <tr>\n",
              "      <th>Volume</th>\n",
              "      <th>^GSPC</th>\n",
              "      <td>0</td>\n",
              "    </tr>\n",
              "  </tbody>\n",
              "</table>\n",
              "</div><br><label><b>dtype:</b> int64</label>"
            ]
          },
          "metadata": {},
          "execution_count": 6
        }
      ]
    },
    {
      "cell_type": "code",
      "source": [
        "#Scala The Data\n",
        "MinMaxScaler = MinMaxScaler()\n",
        "df_scaled = MinMaxScaler.fit_transform(close_price)\n",
        "df_scaked = pd.DataFrame(df_scaled, columns=close_price.columns)\n",
        "df_scaled"
      ],
      "metadata": {
        "colab": {
          "base_uri": "https://localhost:8080/"
        },
        "id": "u0z7bLGnUabO",
        "outputId": "9713d848-54fe-41eb-d897-29d02129654e"
      },
      "execution_count": 7,
      "outputs": [
        {
          "output_type": "execute_result",
          "data": {
            "text/plain": [
              "array([[0.02178704],\n",
              "       [0.02248362],\n",
              "       [0.02260596],\n",
              "       ...,\n",
              "       [0.97643301],\n",
              "       [0.96382374],\n",
              "       [0.95882934]])"
            ]
          },
          "metadata": {},
          "execution_count": 7
        }
      ]
    },
    {
      "cell_type": "code",
      "source": [
        "#Create Data Windows\n",
        "\n",
        "def create_dataset(dataset, look_back = 60):\n",
        "  X,Y = [],[]\n",
        "  for i in range(len(dataset) - look_back):\n",
        "    a = dataset[i:(i + look_back), 0]\n",
        "    X.append(a)\n",
        "    Y.append(dataset[i + look_back, 0]) # Predict the next step\n",
        "\n",
        "  return np.array(X), np.array(Y)\n",
        "\n",
        "look_back = 60\n",
        "train_size = int(len(df_scaled)*0.8)\n",
        "test_size = len(df_scaled) - train_size\n",
        "train_data, test_data = df_scaled[0:train_size, :], df_scaled[train_size - look_back: len(df_scaled), :]\n",
        "\n",
        "X_train, y_train = create_dataset(train_data, look_back)\n",
        "X_test, y_test = create_dataset(test_data, look_back)\n",
        "\n",
        "X_train = torch.FloatTensor(X_train)\n",
        "X_test = torch.FloatTensor(X_test)\n",
        "y_train = torch.FloatTensor(y_train)\n",
        "y_test = torch.FloatTensor(y_test)\n",
        "\n",
        "X_train = X_train.view(X_train.shape[0], X_train.shape[1], 1)\n",
        "X_test = X_test.view(X_test.shape[0], X_test.shape[1], 1)\n",
        "\n",
        "batch_size = 32\n",
        "train_dataset = TensorDataset(X_train, y_train)\n",
        "train_loader = DataLoader(train_dataset, batch_size=batch_size, shuffle=True)"
      ],
      "metadata": {
        "id": "Tg1v6kDxVie1"
      },
      "execution_count": 8,
      "outputs": []
    },
    {
      "cell_type": "code",
      "source": [
        "class LSTMMOdel(nn.Module):\n",
        "  def __init__(self, input_size = 1, hidden_layer_size  = 100, output= 1):\n",
        "    super().__init__()\n",
        "    self.hidden_layer_size = hidden_layer_size\n",
        "    self.lstm = nn.LSTM(input_size, hidden_layer_size)\n",
        "    self.linear = nn.Linear(hidden_layer_size, output)\n",
        "\n",
        "  def forward(self, input_seq):\n",
        "    lstm_out, _ = self.lstm(input_seq)\n",
        "    prediction = self.linear(lstm_out[:, -1, :])\n",
        "    return prediction\n",
        "\n",
        "torch.manual_seed(42)\n",
        "model = LSTMMOdel()\n",
        "loss_function = nn.MSELoss()\n",
        "optimizer = torch.optim.Adam(model.parameters(), lr = 0.001)\n"
      ],
      "metadata": {
        "id": "ajfr8orMZGbB"
      },
      "execution_count": 9,
      "outputs": []
    },
    {
      "cell_type": "code",
      "source": [
        "epochs = 100\n",
        "loss = []\n",
        "loss_per_epoch = 0.0\n",
        "\n",
        "for i in range (epochs):\n",
        "  for X_train, y_train in train_loader:\n",
        "    y_pred = model.forward(X_train)\n",
        "    losses = loss_function(y_pred, y_train.view(-1,1))\n",
        "\n",
        "    optimizer.zero_grad()\n",
        "    losses.backward()\n",
        "    optimizer.step()\n",
        "\n",
        "    loss_per_epoch += losses.item()\n",
        "\n",
        "  avg_loss = loss_per_epoch / len(train_loader)\n",
        "  loss.append(avg_loss)\n",
        "  if i % 10 == 0:\n",
        "    print(f\"Epoch: {i} Loss: {losses.item()}\")\n",
        "\n",
        "\n",
        "\n"
      ],
      "metadata": {
        "colab": {
          "base_uri": "https://localhost:8080/"
        },
        "id": "YXu2_oTYSrmM",
        "outputId": "152fe50c-28b3-42dd-bc97-7ea81e662bfe"
      },
      "execution_count": 10,
      "outputs": [
        {
          "output_type": "stream",
          "name": "stdout",
          "text": [
            "Epoch: 0 Loss: 0.021501099690794945\n",
            "Epoch: 10 Loss: 0.00012730197340715677\n",
            "Epoch: 20 Loss: 5.70241390960291e-05\n",
            "Epoch: 30 Loss: 3.456283957348205e-05\n",
            "Epoch: 40 Loss: 4.669901682063937e-05\n",
            "Epoch: 50 Loss: 2.762076837825589e-05\n",
            "Epoch: 60 Loss: 4.5718570618191734e-05\n",
            "Epoch: 70 Loss: 2.0864419639110565e-05\n",
            "Epoch: 80 Loss: 3.903173637809232e-05\n",
            "Epoch: 90 Loss: 4.300235377741046e-05\n"
          ]
        }
      ]
    },
    {
      "cell_type": "code",
      "source": [
        "model.eval()\n",
        "with torch.no_grad():\n",
        "  test_pred = model(X_test)"
      ],
      "metadata": {
        "id": "sFwJNsP0CuCS"
      },
      "execution_count": 11,
      "outputs": []
    },
    {
      "cell_type": "code",
      "source": [
        "actual_test_pred = MinMaxScaler.inverse_transform(test_pred)\n",
        "actual_test_y = MinMaxScaler.inverse_transform(y_test.view(-1,1))"
      ],
      "metadata": {
        "id": "NkEq7DLjDDK1"
      },
      "execution_count": 12,
      "outputs": []
    },
    {
      "cell_type": "code",
      "source": [
        "plt.figure(figsize=(14, 6))\n",
        "plt.plot(actual_test_y, label=\"Harga Aktual\")\n",
        "plt.plot(actual_test_pred, label=\"Prediksi Model\")\n",
        "plt.xlabel(\"Waktu\")\n",
        "plt.ylabel(\"Harga Saham\")\n",
        "plt.title(\"Prediksi Harga Saham S&P 500 dengan LSTM\")\n",
        "plt.grid(True)\n",
        "plt.legend()\n",
        "plt.show()"
      ],
      "metadata": {
        "colab": {
          "base_uri": "https://localhost:8080/",
          "height": 564
        },
        "id": "lnmZmDaoUyey",
        "outputId": "172b4704-1781-494c-ba40-60f46c48bd5a"
      },
      "execution_count": 13,
      "outputs": [
        {
          "output_type": "display_data",
          "data": {
            "text/plain": [
              "<Figure size 1400x600 with 1 Axes>"
            ],
            "image/png": "[encoded data removed]"
          },
          "metadata": {}
        }
      ]
    },
    {
      "cell_type": "code",
      "source": [
        "from sklearn.metrics import mean_squared_error, mean_absolute_error, r2_score\n",
        "\n",
        "mse = mean_squared_error(actual_test_y, actual_test_pred)\n",
        "mae = mean_absolute_error(actual_test_y, actual_test_pred)\n",
        "r2 = r2_score(actual_test_y, actual_test_pred)\n",
        "\n",
        "print(f\"Mean Squared Error (MSE): {mse}\")\n",
        "print(f\"Mean Absolute Error (MAE): {mae}\")\n",
        "print(f\"R-squared (R2): {r2}\")"
      ],
      "metadata": {
        "id": "Y3BTWmaAUyao",
        "outputId": "da6a70aa-d167-4c07-c7bf-c163fb3e4ade",
        "colab": {
          "base_uri": "https://localhost:8080/"
        }
      },
      "execution_count": 14,
      "outputs": [
        {
          "output_type": "stream",
          "name": "stdout",
          "text": [
            "Mean Squared Error (MSE): 3085.412011681761\n",
            "Mean Absolute Error (MAE): 43.458501742705515\n",
            "R-squared (R2): 0.9929308813001771\n"
          ]
        }
      ]
    },
    {
      "cell_type": "code",
      "source": [
        "torch.save(model.state_dict(), 'model_LSTM_S&P500.pth')"
      ],
      "metadata": {
        "id": "IlejuDOO3Dxo"
      },
      "execution_count": 15,
      "outputs": []
    },
    {
      "cell_type": "code",
      "source": [
        "for param_tensor in model.state_dict():\n",
        "    print(param_tensor, \"\\t\", model.state_dict()[param_tensor].size())"
      ],
      "metadata": {
        "id": "5Nm6-PPg5yqB",
        "outputId": "8bfccc91-f0fd-4868-d33c-9cbe0b32aa28",
        "colab": {
          "base_uri": "https://localhost:8080/"
        }
      },
      "execution_count": 16,
      "outputs": [
        {
          "output_type": "stream",
          "name": "stdout",
          "text": [
            "lstm.weight_ih_l0 \t torch.Size([400, 1])\n",
            "lstm.weight_hh_l0 \t torch.Size([400, 100])\n",
            "lstm.bias_ih_l0 \t torch.Size([400])\n",
            "lstm.bias_hh_l0 \t torch.Size([400])\n",
            "linear.weight \t torch.Size([1, 100])\n",
            "linear.bias \t torch.Size([1])\n"
          ]
        }
      ]
    },
    {
      "cell_type": "code",
      "source": [
        "!pip install -q streamlit pyngrok"
      ],
      "metadata": {
        "id": "uN09iGIznni4",
        "colab": {
          "base_uri": "https://localhost:8080/"
        },
        "outputId": "4f0406e5-d208-4303-fc4c-a190d47e7f70"
      },
      "execution_count": 17,
      "outputs": [
        {
          "output_type": "stream",
          "name": "stdout",
          "text": [
            "\u001b[2K     \u001b[90m━━━━━━━━━━━━━━━━━━━━━━━━━━━━━━━━━━━━━━━━\u001b[0m \u001b[32m44.3/44.3 kB\u001b[0m \u001b[31m2.0 MB/s\u001b[0m eta \u001b[36m0:00:00\u001b[0m\n",
            "\u001b[2K   \u001b[90m━━━━━━━━━━━━━━━━━━━━━━━━━━━━━━━━━━━━━━━━\u001b[0m \u001b[32m10.1/10.1 MB\u001b[0m \u001b[31m66.9 MB/s\u001b[0m eta \u001b[36m0:00:00\u001b[0m\n",
            "\u001b[2K   \u001b[90m━━━━━━━━━━━━━━━━━━━━━━━━━━━━━━━━━━━━━━━━\u001b[0m \u001b[32m6.9/6.9 MB\u001b[0m \u001b[31m103.9 MB/s\u001b[0m eta \u001b[36m0:00:00\u001b[0m\n",
            "\u001b[2K   \u001b[90m━━━━━━━━━━━━━━━━━━━━━━━━━━━━━━━━━━━━━━━━\u001b[0m \u001b[32m79.1/79.1 kB\u001b[0m \u001b[31m5.1 MB/s\u001b[0m eta \u001b[36m0:00:00\u001b[0m\n",
            "\u001b[?25h"
          ]
        }
      ]
    },
    {
      "cell_type": "code",
      "source": [],
      "metadata": {
        "id": "q7bkT3AUnqJp"
      },
      "execution_count": 17,
      "outputs": []
    },
    {
      "cell_type": "code",
      "source": [
        "%%writefile S&P500.py\n",
        "import torch\n",
        "import torch.nn as nn\n",
        "import torch.nn.functional as f\n",
        "import pandas as pd\n",
        "import numpy as np\n",
        "import yfinance as yf\n",
        "import plotly.graph_objects as go\n",
        "import streamlit as st\n",
        "from pyngrok import ngrok\n",
        "import getpass\n",
        "import traceback\n",
        "import joblib\n",
        "from sklearn.preprocessing import MinMaxScaler\n",
        "\n",
        "\n",
        "class LSTMModel(nn.Module):\n",
        "  def __init__(self, input_size = 1, hidden_layer_size  = 100, output= 1):\n",
        "    super().__init__()\n",
        "    self.hidden_layer_size = hidden_layer_size\n",
        "    self.lstm = nn.LSTM(input_size, hidden_layer_size)\n",
        "    self.linear = nn.Linear(hidden_layer_size, output)\n",
        "\n",
        "  def forward(self, input_seq):\n",
        "    lstm_out, _ = self.lstm(input_seq)\n",
        "    prediction = self.linear(lstm_out[:, -1, :])\n",
        "    return prediction\n",
        "\n",
        "\n",
        "@st.cache_resource\n",
        "def load_data(ticker):\n",
        "  df = yf.download(ticker, start=\"2010-01-01\")\n",
        "  return df\n",
        "\n",
        "@st.cache_resource\n",
        "def load_model_and_scaler():\n",
        "  try:\n",
        "      model = LSTMModel()\n",
        "      model.load_state_dict(torch.load('model_LSTM_S&P500.pth'))\n",
        "      model.eval()\n",
        "\n",
        "      scaler = joblib.load('MinMaxScaler.joblib')\n",
        "      return model, scaler\n",
        "\n",
        "  except Exception as e:\n",
        "      st.error(f\"Error : {e}\")\n",
        "      st.text(traceback.format_exc())\n",
        "      raise e\n",
        "\n",
        "\n",
        "st.title(\"S&P 500 Stock Prediction\")\n",
        "\n",
        "data = load_data(\"^GSPC\")\n",
        "\n",
        "scaler = MinMaxScaler()\n",
        "scaler.fit(data)\n",
        "joblib.dump(MinMaxScaler, 'MinMaxScaler.joblib')\n",
        "model, scaler = load_model_and_scaler()\n",
        "\n",
        "if model is not None:\n",
        "  st.subheader(\"Close Price S&P 500\")\n",
        "  fig = go.Figure()\n",
        "  fig.add_trace(go.Line(x= data.index, y= data[\"Close\"], name= \"S&P 500\"))\n",
        "  fig.layout.update(title_text = \"S&P 500 Price Movement\", xaxis_rangeslider_visible = True)\n",
        "  st.plotly_chart(fig)\n",
        "\n",
        "  st.sidebar.header(\"Prediksi Harga\")\n",
        "\n",
        "  if st.sidebar.button(\"Prediksi Harga Selanjutnya\"):\n",
        "    look_back = 60\n",
        "    last_60_days = data[\"Close\"].values[-look_back:]\n",
        "    last_60_days_scaled = scaler.transform(last_60_days.reshape(-1,1))\n",
        "    X_pred = torch.FloatTensor(last_60_days_scaled)\n",
        "\n",
        "    with torch.no_grad:\n",
        "      prediction_scaled = model(X_pred)\n",
        "\n",
        "    prediction_actual = scaler.inverse_transform(prediction_scaled.numpy().reshape(-1,1))\n",
        "\n",
        "    last_date = data.index.iloc[-1]\n",
        "    next_date = last_date + pd.Timedelta(days= 1)\n",
        "\n",
        "    st.sidebar.metric(\n",
        "            label=f\"Prediksi Harga Tutup untuk {next_date.strftime('%Y-%m-%d')}\",\n",
        "            value=f\"${prediction_actual[0][0]:,.2f}\"\n",
        "   )\n",
        "st.sidebar.info(\"Disclaimer: Ini adalah proyek teknis, bukan saran finansial.\")"
      ],
      "metadata": {
        "colab": {
          "base_uri": "https://localhost:8080/"
        },
        "id": "BYFcVEvInwMH",
        "outputId": "af353ef6-605e-40df-fe8b-638401211363"
      },
      "execution_count": 26,
      "outputs": [
        {
          "output_type": "stream",
          "name": "stdout",
          "text": [
            "Overwriting S&P500.py\n"
          ]
        }
      ]
    },
    {
      "cell_type": "code",
      "source": [
        "!ngrok authtoken 2zH8hZqsfmzIXSAGlYPcQjgFkL8_75gw42YGnjStbTWgoxPJd"
      ],
      "metadata": {
        "colab": {
          "base_uri": "https://localhost:8080/"
        },
        "id": "Hw90_Y4bnxD5",
        "outputId": "67692dbf-7d11-4ed2-a230-c96fab5dbefa"
      },
      "execution_count": 27,
      "outputs": [
        {
          "output_type": "stream",
          "name": "stdout",
          "text": [
            "Authtoken saved to configuration file: /root/.config/ngrok/ngrok.yml\n"
          ]
        }
      ]
    },
    {
      "cell_type": "code",
      "source": [
        "from pyngrok import ngrok\n",
        "!streamlit run \"S&P500.py\" --server.port 8051 &\n",
        "\n",
        "public_url = ngrok.connect(8051)\n",
        "print(f\"Silahkan Klik Link Ini {public_url}\")"
      ],
      "metadata": {
        "colab": {
          "base_uri": "https://localhost:8080/"
        },
        "id": "zY44AN9In0yJ",
        "outputId": "648d0c04-6ce1-4f27-9a64-cff71f5cba1c"
      },
      "execution_count": null,
      "outputs": [
        {
          "output_type": "stream",
          "name": "stdout",
          "text": [
            "\n",
            "Collecting usage statistics. To deactivate, set browser.gatherUsageStats to false.\n",
            "\u001b[0m\n",
            "\u001b[0m\n",
            "\u001b[34m\u001b[1m  You can now view your Streamlit app in your browser.\u001b[0m\n",
            "\u001b[0m\n",
            "\u001b[34m  Local URL: \u001b[0m\u001b[1mhttp://localhost:8051\u001b[0m\n",
            "\u001b[34m  Network URL: \u001b[0m\u001b[1mhttp://172.28.0.12:8051\u001b[0m\n",
            "\u001b[34m  External URL: \u001b[0m\u001b[1mhttp://34.73.143.35:8051\u001b[0m\n",
            "\u001b[0m\n",
            "/content/S&P500.py:31: FutureWarning: YF.download() has changed argument auto_adjust default to True\n",
            "  df = yf.download(ticker, start=\"2010-01-01\")\n",
            "[*********************100%***********************]  1 of 1 completed\n",
            "/usr/local/lib/python3.11/dist-packages/plotly/graph_objs/_deprecations.py:378: DeprecationWarning:\n",
            "\n",
            "plotly.graph_objs.Line is deprecated.\n",
            "Please replace it with one of the following more specific types\n",
            "  - plotly.graph_objs.scatter.Line\n",
            "  - plotly.graph_objs.layout.shape.Line\n",
            "  - etc.\n",
            "\n",
            "\n",
            "/usr/local/lib/python3.11/dist-packages/plotly/graph_objs/_deprecations.py:378: DeprecationWarning:\n",
            "\n",
            "plotly.graph_objs.Line is deprecated.\n",
            "Please replace it with one of the following more specific types\n",
            "  - plotly.graph_objs.scatter.Line\n",
            "  - plotly.graph_objs.layout.shape.Line\n",
            "  - etc.\n",
            "\n",
            "\n",
            "\u001b[31m──\u001b[0m\u001b[31m────────────────────────\u001b[0m\u001b[31m \u001b[0m\u001b[1;31mTraceback \u001b[0m\u001b[1;2;31m(most recent call last)\u001b[0m\u001b[31m \u001b[0m\u001b[31m─────────────────────────\u001b[0m\u001b[31m──\u001b[0m\n",
            "\u001b[31m \u001b[0m \u001b[2;33m/usr/local/lib/python3.11/dist-packages/streamlit/runtime/scriptrunner/\u001b[0m\u001b[1;33mexec_code.py\u001b[0m: \u001b[31m \u001b[0m\n",
            "\u001b[31m \u001b[0m \u001b[94m128\u001b[0m in \u001b[92mexec_func_with_error_handling\u001b[0m                                                 \u001b[31m \u001b[0m\n",
            "\u001b[31m \u001b[0m                                                                                      \u001b[31m \u001b[0m\n",
            "\u001b[31m \u001b[0m \u001b[2;33m/usr/local/lib/python3.11/dist-packages/streamlit/runtime/scriptrunner/\u001b[0m\u001b[1;33mscript_runner\u001b[0m \u001b[31m \u001b[0m\n",
            "\u001b[31m \u001b[0m \u001b[1;33m.py\u001b[0m:\u001b[94m669\u001b[0m in \u001b[92mcode_to_exec\u001b[0m                                                              \u001b[31m \u001b[0m\n",
            "\u001b[31m \u001b[0m                                                                                      \u001b[31m \u001b[0m\n",
            "\u001b[31m \u001b[0m \u001b[2;33m/content/\u001b[0m\u001b[1;33mS&P500.py\u001b[0m:\u001b[94m71\u001b[0m in \u001b[92m<module>\u001b[0m                                                    \u001b[31m \u001b[0m\n",
            "\u001b[31m \u001b[0m                                                                                      \u001b[31m \u001b[0m\n",
            "\u001b[31m \u001b[0m   \u001b[2m68 \u001b[0m\u001b[2m  \u001b[0m\u001b[94mif\u001b[0m st.sidebar.button(\u001b[33m\"\u001b[0m\u001b[33mPrediksi Harga Selanjutnya\u001b[0m\u001b[33m\"\u001b[0m):                           \u001b[31m \u001b[0m\n",
            "\u001b[31m \u001b[0m   \u001b[2m69 \u001b[0m\u001b[2m│   \u001b[0mlook_back = \u001b[94m60\u001b[0m                                                              \u001b[31m \u001b[0m\n",
            "\u001b[31m \u001b[0m   \u001b[2m70 \u001b[0m\u001b[2m│   \u001b[0mlast_60_days = data[\u001b[33m\"\u001b[0m\u001b[33mClose\u001b[0m\u001b[33m\"\u001b[0m].values[-look_back:]                            \u001b[31m \u001b[0m\n",
            "\u001b[31m \u001b[0m \u001b[31m❱ \u001b[0m71 \u001b[2m│   \u001b[0mlast_60_days_scaled = \u001b[1;4mscaler.transform(last_60_days.reshape(-\u001b[0m\u001b[1;4;94m1\u001b[0m\u001b[1;4m,\u001b[0m\u001b[1;4;94m1\u001b[0m\u001b[1;4m))\u001b[0m          \u001b[31m \u001b[0m\n",
            "\u001b[31m \u001b[0m   \u001b[2m72 \u001b[0m\u001b[2m│   \u001b[0mX_pred = torch.FloatTensor(last_60_days_scaled)                             \u001b[31m \u001b[0m\n",
            "\u001b[31m \u001b[0m   \u001b[2m73 \u001b[0m\u001b[2m│   \u001b[0m                                                                            \u001b[31m \u001b[0m\n",
            "\u001b[31m \u001b[0m   \u001b[2m74 \u001b[0m\u001b[2m│   \u001b[0m\u001b[94mwith\u001b[0m torch.no_grad:                                                         \u001b[31m \u001b[0m\n",
            "\u001b[31m────────────────────────────────────────────────────────────────────────────────────────\u001b[0m\n",
            "\u001b[1;91mTypeError: \u001b[0m\u001b[1;35mMinMaxScaler.transform\u001b[0m\u001b[1m(\u001b[0m\u001b[1m)\u001b[0m missing \u001b[1;36m1\u001b[0m required positional argument: \u001b[32m'X'\u001b[0m\n"
          ]
        }
      ]
    }
  ]
}