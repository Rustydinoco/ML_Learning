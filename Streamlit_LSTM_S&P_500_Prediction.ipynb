{
  "nbformat": 4,
  "nbformat_minor": 0,
  "metadata": {
    "colab": {
      "provenance": [],
      "authorship_tag": "ABX9TyPhIuyTo9aYkR3fzeEnwA9A",
      "include_colab_link": true
    },
    "kernelspec": {
      "name": "python3",
      "display_name": "Python 3"
    },
    "language_info": {
      "name": "python"
    }
  },
  "cells": [
    {
      "cell_type": "markdown",
      "metadata": {
        "id": "view-in-github",
        "colab_type": "text"
      },
      "source": [
        "<a href=\"https://colab.research.google.com/github/Rustydinoco/ML_Learning/blob/master/Streamlit_LSTM_S%26P_500_Prediction.ipynb\" target=\"_parent\"><img src=\"https://colab.research.google.com/assets/colab-badge.svg\" alt=\"Open In Colab\"/></a>"
      ]
    },
    {
      "cell_type": "code",
      "source": [
        "!pip install -q streamlit pyngrok"
      ],
      "metadata": {
        "id": "LW0-Ut4nLdp_"
      },
      "execution_count": 16,
      "outputs": []
    },
    {
      "cell_type": "code",
      "source": [
        "import joblib\n",
        "from sklearn.preprocessing import MinMaxScaler\n",
        "\n",
        "joblib.dump(MinMaxScaler, 'MinMaxScaler.joblib')\n"
      ],
      "metadata": {
        "id": "ODoFBhVeBMvi",
        "outputId": "3d5c3523-09e6-4bc7-8d20-c4cd89cb2f4d",
        "colab": {
          "base_uri": "https://localhost:8080/"
        }
      },
      "execution_count": 17,
      "outputs": [
        {
          "output_type": "execute_result",
          "data": {
            "text/plain": [
              "['MinMaxScaler.joblib']"
            ]
          },
          "metadata": {},
          "execution_count": 17
        }
      ]
    },
    {
      "cell_type": "code",
      "execution_count": 18,
      "metadata": {
        "collapsed": true,
        "id": "2WzprVd87WhC",
        "colab": {
          "base_uri": "https://localhost:8080/"
        },
        "outputId": "130a8a56-a8bf-4f60-e487-f33711ad35c8"
      },
      "outputs": [
        {
          "output_type": "stream",
          "name": "stdout",
          "text": [
            "Overwriting S&P500.py\n"
          ]
        }
      ],
      "source": [
        "%%writefile S&P500.py\n",
        "import torch\n",
        "import torch.nn as nn\n",
        "import torch.nn.functional as f\n",
        "import pandas as pd\n",
        "import numpy as np\n",
        "import yfinance as yf\n",
        "import plotly.graph_objects as go\n",
        "import streamlit as st\n",
        "from pyngrok import ngrok\n",
        "import getpass\n",
        "\n",
        "class LSTMModel(nn.Module):\n",
        "  def __init__(self, input_size = 1, hidden_layer_size  = 100, output= 1):\n",
        "    super().__init__()\n",
        "    self.hidden_layer_size = hidden_layer_size\n",
        "    self.lstm = nn.LSTM(input_size, hidden_layer_size)\n",
        "    self.linear = nn.Linear(hidden_layer_size, output)\n",
        "\n",
        "  def forward(self, input_seq):\n",
        "    lstm_out, _ = self.lstm(input_seq)\n",
        "    prediction = self.linear(lstm_out[:, -1, :])\n",
        "    return prediction\n",
        "\n",
        "\n",
        "@st.cache_resource\n",
        "def load_data(ticker):\n",
        "  df = yf.download(ticker, start=\"2010-01-01\")\n",
        "  return df\n",
        "\n",
        "@st.cache_resource\n",
        "def load_model_and_scaler():\n",
        "  try:\n",
        "      model = LSTMModel()\n",
        "      model.load_state_dict(torch.load('model_LSTM_S&P500.pth'))\n",
        "      model.eval()\n",
        "\n",
        "      scaler = joblib.load('MinMaxScaler.joblib')\n",
        "      return model, scaler\n",
        "  except Exception as e:\n",
        "      st.error(\"File Not Found\")\n",
        "      return None, None\n",
        "\n",
        "\n",
        "st.title(\"S&P 500 Stock Prediction\")\n",
        "\n",
        "data = load_data(\"^GSPC\")\n",
        "model, scaler = load_model_and_scaler()\n",
        "\n",
        "if model is not None:\n",
        "  st.subheader(\"Close Price S&P 500\")\n",
        "  fig = go.Figure()\n",
        "  fig.add_trace(go.Scatter(x= data[\"Date\"], y= data[\"Close\"], name= \"S&P 500\"))\n",
        "  fig.layout.update(title_text = \"S&P 500 Price Movement\", xaxis_rangeslider_visible = True)\n",
        "  st.plotly_chart(fig)\n",
        "\n",
        "  st.sidebar.header(\"Prediksi Harga\")\n",
        "\n",
        "  if st.sidebar.button(\"Prediksi Harga Selanjutnya\"):\n",
        "    look_back = 60\n",
        "    last_60_days = data[\"Close\"].values[-look_back:]\n",
        "    last_60_days_scaled = scaler.transform(last_60_days.reshape(-1,1))\n",
        "    X_pred = torch.FloatTensor(last_60_days_scaled)\n",
        "\n",
        "    with torch.no_grad:\n",
        "      prediction_scaled = model(X_pred)\n",
        "\n",
        "    prediction_actual = scaler.inverse_transform(prediction_scaled.numpy().reshape(-1,1))\n",
        "\n",
        "    last_date = data[\"Date\"].iloc[-1]\n",
        "    next_date = last_date + pd.Timedelta(days= 1)\n",
        "\n",
        "    st.sidebar.metric(\n",
        "            label=f\"Prediksi Harga Tutup untuk {next_date.strftime('%Y-%m-%d')}\",\n",
        "            value=f\"${prediction_actual[0][0]:,.2f}\"\n",
        "   )\n",
        "st.sidebar.info(\"Disclaimer: Ini adalah proyek teknis, bukan saran finansial.\")"
      ]
    },
    {
      "cell_type": "code",
      "source": [
        "!ngrok authtoken 2zH8hZqsfmzIXSAGlYPcQjgFkL8_75gw42YGnjStbTWgoxPJd"
      ],
      "metadata": {
        "colab": {
          "base_uri": "https://localhost:8080/"
        },
        "id": "rHTP4yFNnzg8",
        "outputId": "722793e3-eee2-41ae-e0a2-70c9a187f512"
      },
      "execution_count": 19,
      "outputs": [
        {
          "output_type": "stream",
          "name": "stdout",
          "text": [
            "Authtoken saved to configuration file: /root/.config/ngrok/ngrok.yml\n"
          ]
        }
      ]
    },
    {
      "cell_type": "code",
      "source": [
        "from pyngrok import ngrok\n",
        "!streamlit run \"S&P500.py\" --server.port 8051\n",
        "\n",
        "public_url = ngrok.connect(8051)\n",
        "print(f\"Silahkan Klik Link Ini {public_url}\")"
      ],
      "metadata": {
        "collapsed": true,
        "colab": {
          "base_uri": "https://localhost:8080/"
        },
        "id": "2WjdZj4ym-CR",
        "outputId": "4def86ee-f202-4152-e65c-00b089857278"
      },
      "execution_count": null,
      "outputs": [
        {
          "output_type": "stream",
          "name": "stdout",
          "text": [
            "\n",
            "Collecting usage statistics. To deactivate, set browser.gatherUsageStats to false.\n",
            "\u001b[0m\n",
            "\u001b[0m\n",
            "\u001b[34m\u001b[1m  You can now view your Streamlit app in your browser.\u001b[0m\n",
            "\u001b[0m\n",
            "\u001b[34m  Local URL: \u001b[0m\u001b[1mhttp://localhost:8051\u001b[0m\n",
            "\u001b[34m  Network URL: \u001b[0m\u001b[1mhttp://172.28.0.12:8051\u001b[0m\n",
            "\u001b[34m  External URL: \u001b[0m\u001b[1mhttp://35.194.154.229:8051\u001b[0m\n",
            "\u001b[0m\n",
            "/content/S&P500.py:27: FutureWarning: YF.download() has changed argument auto_adjust default to True\n",
            "  df = yf.download(ticker, start=\"2010-01-01\")\n",
            "[*********************100%***********************]  1 of 1 completed\n"
          ]
        },
        {
          "output_type": "stream",
          "name": "stderr",
          "text": [
            "WARNING:pyngrok.process.ngrok:t=2025-07-06T15:01:46+0000 lvl=warn msg=\"Stopping forwarder\" name=http-8051-178a8656-ab6b-4134-8694-9cd267a1f983 acceptErr=\"failed to accept connection: Listener closed\"\n"
          ]
        }
      ]
    }
  ]
}