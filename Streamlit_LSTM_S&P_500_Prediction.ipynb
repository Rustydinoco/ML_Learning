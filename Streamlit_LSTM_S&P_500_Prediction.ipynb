{
  "nbformat": 4,
  "nbformat_minor": 0,
  "metadata": {
    "colab": {
      "provenance": [],
      "authorship_tag": "ABX9TyM0rK0AIhhjumhCBos9Gt4J",
      "include_colab_link": true
    },
    "kernelspec": {
      "name": "python3",
      "display_name": "Python 3"
    },
    "language_info": {
      "name": "python"
    }
  },
  "cells": [
    {
      "cell_type": "markdown",
      "metadata": {
        "id": "view-in-github",
        "colab_type": "text"
      },
      "source": [
        "<a href=\"https://colab.research.google.com/github/Rustydinoco/ML_Learning/blob/master/Streamlit_LSTM_S%26P_500_Prediction.ipynb\" target=\"_parent\"><img src=\"https://colab.research.google.com/assets/colab-badge.svg\" alt=\"Open In Colab\"/></a>"
      ]
    },
    {
      "cell_type": "code",
      "source": [
        "!pip install -q streamlit pyngrok"
      ],
      "metadata": {
        "id": "LW0-Ut4nLdp_"
      },
      "execution_count": 13,
      "outputs": []
    },
    {
      "cell_type": "code",
      "execution_count": 15,
      "metadata": {
        "collapsed": true,
        "id": "2WzprVd87WhC"
      },
      "outputs": [],
      "source": [
        "import torch\n",
        "import torch.nn as nn\n",
        "import torch.nn.functional as f\n",
        "import pandas as pd\n",
        "import numpy as np\n",
        "import yfinance as yf\n",
        "from sklearn.preprocessing import MinMaxScaler\n",
        "import plotly.graph_objects as go\n",
        "import joblib\n",
        "import streamlit as st\n",
        "from pyngrok import ngrok\n",
        "import getpass"
      ]
    },
    {
      "cell_type": "code",
      "source": [],
      "metadata": {
        "id": "x-rx5q9pMApb"
      },
      "execution_count": null,
      "outputs": []
    },
    {
      "cell_type": "code",
      "source": [
        "class LSTMMOdel(nn.Module):\n",
        "  def __init__(self, input_size = 1, hidden_layer_size  = 100, output= 1):\n",
        "    super().__init__()\n",
        "    self.hidden_layer_size = hidden_layer_size\n",
        "    self.lstm = nn.LSTM(input_size, hidden_layer_size)\n",
        "    self.linear = nn.Linear(hidden_layer_size, output)\n",
        "\n",
        "  def forward(self, input_seq):\n",
        "    lstm_out, _ = self.lstm(input_seq)\n",
        "    prediction = self.linear(lstm_out[:, -1, :])\n",
        "    return prediction"
      ],
      "metadata": {
        "id": "MYgrYiCv-Ty_"
      },
      "execution_count": 7,
      "outputs": []
    },
    {
      "cell_type": "code",
      "source": [],
      "metadata": {
        "colab": {
          "base_uri": "https://localhost:8080/"
        },
        "id": "BeBqZ6GjA7eR",
        "outputId": "34f4a5ea-c44e-4a3b-b1c4-4ca9b5d5e460"
      },
      "execution_count": 8,
      "outputs": [
        {
          "output_type": "execute_result",
          "data": {
            "text/plain": [
              "<module 'joblib' from '/usr/local/lib/python3.11/dist-packages/joblib/__init__.py'>"
            ]
          },
          "metadata": {},
          "execution_count": 8
        }
      ]
    },
    {
      "cell_type": "code",
      "source": [
        "@st.cache_resource\n",
        "def load_data(ticker):\n",
        "  df = yf.download(ticker, start=\"2010-01-01\")\n",
        "  return df"
      ],
      "metadata": {
        "id": "YAWwu4ot_rNM"
      },
      "execution_count": 9,
      "outputs": []
    },
    {
      "cell_type": "code",
      "source": [
        "joblib.dump(MinMaxScaler, 'MinMaxScaler.joblib')"
      ],
      "metadata": {
        "colab": {
          "base_uri": "https://localhost:8080/"
        },
        "id": "jzvn_W4LBBy9",
        "outputId": "cebb6e25-5e47-45fb-dce3-4b98b3f1573e"
      },
      "execution_count": 10,
      "outputs": [
        {
          "output_type": "execute_result",
          "data": {
            "text/plain": [
              "['MinMaxScaler.joblib']"
            ]
          },
          "metadata": {},
          "execution_count": 10
        }
      ]
    },
    {
      "cell_type": "code",
      "source": [
        "@st.cache_resource\n",
        "def load_model_and_scaler():\n",
        "  try:\n",
        "      model = LSTMModel()\n",
        "      model.load_state_dict()(torch.load('model_LSTM_S&P500.pth'))\n",
        "      model.eval()\n",
        "\n",
        "      scaler = joblib.load('MinMaxScaler.joblib')\n",
        "      return model, scaler\n",
        "  except Exception as e:\n",
        "      st.error(\"File Not Found\")\n",
        "      return None, None\n",
        "\n",
        ""
      ],
      "metadata": {
        "id": "A5NQc7bRAHNm"
      },
      "execution_count": 11,
      "outputs": []
    },
    {
      "cell_type": "code",
      "source": [
        "st.title(\"S&P 500 Stock Prediction\")\n",
        "st."
      ],
      "metadata": {
        "colab": {
          "base_uri": "https://localhost:8080/"
        },
        "id": "DBG4tZcYAczv",
        "outputId": "da93da6b-bb4a-4282-a12a-156f774d9213"
      },
      "execution_count": 12,
      "outputs": [
        {
          "output_type": "execute_result",
          "data": {
            "text/plain": [
              "['MinMaxScaler.joblib']"
            ]
          },
          "metadata": {},
          "execution_count": 12
        }
      ]
    }
  ]
}