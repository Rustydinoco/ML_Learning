{
  "nbformat": 4,
  "nbformat_minor": 0,
  "metadata": {
    "colab": {
      "provenance": [],
      "authorship_tag": "ABX9TyMoUtTXSJpjh89htqwiSVob",
      "include_colab_link": true
    },
    "kernelspec": {
      "name": "python3",
      "display_name": "Python 3"
    },
    "language_info": {
      "name": "python"
    }
  },
  "cells": [
    {
      "cell_type": "markdown",
      "metadata": {
        "id": "view-in-github",
        "colab_type": "text"
      },
      "source": [
        "<a href=\"https://colab.research.google.com/github/Rustydinoco/ML_Learning/blob/master/Streamlit_LSTM_S%26P_500_Prediction.ipynb\" target=\"_parent\"><img src=\"https://colab.research.google.com/assets/colab-badge.svg\" alt=\"Open In Colab\"/></a>"
      ]
    },
    {
      "cell_type": "code",
      "source": [
        "!pip install -q streamlit pyngrok"
      ],
      "metadata": {
        "id": "LW0-Ut4nLdp_",
        "outputId": "efe212b1-59ca-4558-a272-b46462273e28",
        "colab": {
          "base_uri": "https://localhost:8080/"
        }
      },
      "execution_count": 1,
      "outputs": [
        {
          "output_type": "stream",
          "name": "stdout",
          "text": [
            "\u001b[2K     \u001b[90m━━━━━━━━━━━━━━━━━━━━━━━━━━━━━━━━━━━━━━━━\u001b[0m \u001b[32m44.3/44.3 kB\u001b[0m \u001b[31m1.9 MB/s\u001b[0m eta \u001b[36m0:00:00\u001b[0m\n",
            "\u001b[2K   \u001b[90m━━━━━━━━━━━━━━━━━━━━━━━━━━━━━━━━━━━━━━━━\u001b[0m \u001b[32m10.1/10.1 MB\u001b[0m \u001b[31m44.4 MB/s\u001b[0m eta \u001b[36m0:00:00\u001b[0m\n",
            "\u001b[2K   \u001b[90m━━━━━━━━━━━━━━━━━━━━━━━━━━━━━━━━━━━━━━━━\u001b[0m \u001b[32m6.9/6.9 MB\u001b[0m \u001b[31m72.3 MB/s\u001b[0m eta \u001b[36m0:00:00\u001b[0m\n",
            "\u001b[2K   \u001b[90m━━━━━━━━━━━━━━━━━━━━━━━━━━━━━━━━━━━━━━━━\u001b[0m \u001b[32m79.1/79.1 kB\u001b[0m \u001b[31m6.1 MB/s\u001b[0m eta \u001b[36m0:00:00\u001b[0m\n",
            "\u001b[?25h"
          ]
        }
      ]
    },
    {
      "cell_type": "code",
      "source": [
        "import joblib\n",
        "from sklearn.preprocessing import MinMaxScaler\n",
        "\n",
        "joblib.dump(MinMaxScaler, 'MinMaxScaler.joblib')\n"
      ],
      "metadata": {
        "id": "ODoFBhVeBMvi",
        "outputId": "5d48395f-f682-406c-da85-8f8a2d56f56a",
        "colab": {
          "base_uri": "https://localhost:8080/"
        }
      },
      "execution_count": 8,
      "outputs": [
        {
          "output_type": "execute_result",
          "data": {
            "text/plain": [
              "['MinMaxScaler.joblib']"
            ]
          },
          "metadata": {},
          "execution_count": 8
        }
      ]
    },
    {
      "cell_type": "code",
      "execution_count": 2,
      "metadata": {
        "collapsed": true,
        "id": "2WzprVd87WhC"
      },
      "outputs": [],
      "source": [
        "import torch\n",
        "import torch.nn as nn\n",
        "import torch.nn.functional as f\n",
        "import pandas as pd\n",
        "import numpy as np\n",
        "import yfinance as yf\n",
        "import plotly.graph_objects as go\n",
        "import streamlit as st\n",
        "from pyngrok import ngrok\n",
        "import getpass\n",
        "\n",
        "class LSTMMOdel(nn.Module):\n",
        "  def __init__(self, input_size = 1, hidden_layer_size  = 100, output= 1):\n",
        "    super().__init__()\n",
        "    self.hidden_layer_size = hidden_layer_size\n",
        "    self.lstm = nn.LSTM(input_size, hidden_layer_size)\n",
        "    self.linear = nn.Linear(hidden_layer_size, output)\n",
        "\n",
        "  def forward(self, input_seq):\n",
        "    lstm_out, _ = self.lstm(input_seq)\n",
        "    prediction = self.linear(lstm_out[:, -1, :])\n",
        "    return prediction\n",
        "\n",
        "\n",
        "@st.cache_resource\n",
        "def load_data(ticker):\n",
        "  df = yf.download(ticker, start=\"2010-01-01\")\n",
        "  return df\n",
        "\n",
        "@st.cache_resource\n",
        "def load_model_and_scaler():\n",
        "  try:\n",
        "      model = LSTMModel()\n",
        "      model.load_state_dict()(torch.load('model_LSTM_S&P500.pth'))\n",
        "      model.eval()\n",
        "\n",
        "      scaler = joblib.load('MinMaxScaler.joblib')\n",
        "      return model, scaler\n",
        "  except Exception as e:\n",
        "      st.error(\"File Not Found\")\n",
        "      return None, None\n",
        "\n",
        "\n",
        "st.title(\"S&P 500 Stock Prediction\")\n",
        "\n",
        "data = load_data(\"SPY\")\n",
        "model, scaler = load_model_and_scaler()\n",
        "\n",
        "if model is not None:\n",
        "  st.subheader(\"Close Price S&P 500\")\n",
        "  fig = go.Figure()\n",
        "  fig.add_trace(go.scatter(x= data[\"Date\"], y= data[\"Close\"], name= \"S&P 500\"))\n",
        "  fig.layout.update(title_text = \"S&P 500 Price Movement\", xaxis_rangeslider_visible = True)\n",
        "  st.plotly_chart(fig)"
      ]
    }
  ]
}