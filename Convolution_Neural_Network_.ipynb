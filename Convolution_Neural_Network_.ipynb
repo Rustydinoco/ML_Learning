{
  "nbformat": 4,
  "nbformat_minor": 0,
  "metadata": {
    "colab": {
      "provenance": [],
      "authorship_tag": "ABX9TyPC8d98WYHlZ00pt6Rx3crN",
      "include_colab_link": true
    },
    "kernelspec": {
      "name": "python3",
      "display_name": "Python 3"
    },
    "language_info": {
      "name": "python"
    }
  },
  "cells": [
    {
      "cell_type": "markdown",
      "metadata": {
        "id": "view-in-github",
        "colab_type": "text"
      },
      "source": [
        "<a href=\"https://colab.research.google.com/github/Rustydinoco/ML_Learning/blob/master/Convolution_Neural_Network_.ipynb\" target=\"_parent\"><img src=\"https://colab.research.google.com/assets/colab-badge.svg\" alt=\"Open In Colab\"/></a>"
      ]
    },
    {
      "cell_type": "code",
      "execution_count": 34,
      "metadata": {
        "id": "Ce4Zzf1MMTrq"
      },
      "outputs": [],
      "source": [
        "import torch\n",
        "import torch.nn as nn\n",
        "import torch.nn.functional as F\n",
        "from torch.utils.data import DataLoader\n",
        "from torchvision import datasets, transforms\n",
        "from torchvision.utils import make_grid\n",
        "\n",
        "import numpy as np\n",
        "import pandas as pd\n",
        "from sklearn.metrics import confusion_matrix\n",
        "import matplotlib.pyplot as plt\n",
        "%matplotlib inline"
      ]
    },
    {
      "cell_type": "code",
      "source": [
        "# Convert MNIST Image File into a Tensor of 4-Dimensions (Images, Height, Width, Color channel)\n",
        "transform =  transforms.ToTensor()"
      ],
      "metadata": {
        "id": "fdbGcxaUMbKD"
      },
      "execution_count": 35,
      "outputs": []
    },
    {
      "cell_type": "code",
      "source": [
        "# Train Data\n",
        "train_data = datasets.MNIST(root= '/cnn_data', train=True, download=True, transform=transform)"
      ],
      "metadata": {
        "id": "zJBZNj67OKO1"
      },
      "execution_count": 36,
      "outputs": []
    },
    {
      "cell_type": "code",
      "source": [
        "#Test data\n",
        "test_data = datasets.MNIST(root= '/cnn_data', train=False, download=True, transform=transform)"
      ],
      "metadata": {
        "id": "H9UQ3DmROtlx"
      },
      "execution_count": 37,
      "outputs": []
    },
    {
      "cell_type": "code",
      "source": [
        "train_data"
      ],
      "metadata": {
        "colab": {
          "base_uri": "https://localhost:8080/"
        },
        "id": "XJ368VNDO0ae",
        "outputId": "1d58cf5f-55db-460d-ce27-ec92cf365ab6"
      },
      "execution_count": 38,
      "outputs": [
        {
          "output_type": "execute_result",
          "data": {
            "text/plain": [
              "Dataset MNIST\n",
              "    Number of datapoints: 60000\n",
              "    Root location: /cnn_data\n",
              "    Split: Train\n",
              "    StandardTransform\n",
              "Transform: ToTensor()"
            ]
          },
          "metadata": {},
          "execution_count": 38
        }
      ]
    },
    {
      "cell_type": "code",
      "source": [
        "test_data"
      ],
      "metadata": {
        "colab": {
          "base_uri": "https://localhost:8080/"
        },
        "id": "Kk2PM0e4PAmd",
        "outputId": "c93fdb52-00dd-428c-a720-b048ec0fe0a1"
      },
      "execution_count": 39,
      "outputs": [
        {
          "output_type": "execute_result",
          "data": {
            "text/plain": [
              "Dataset MNIST\n",
              "    Number of datapoints: 10000\n",
              "    Root location: /cnn_data\n",
              "    Split: Test\n",
              "    StandardTransform\n",
              "Transform: ToTensor()"
            ]
          },
          "metadata": {},
          "execution_count": 39
        }
      ]
    },
    {
      "cell_type": "code",
      "source": [
        "# Build The Model\n",
        "class ConvolutionalNetwork(nn.Module):\n",
        "  def __init__(self):\n",
        "    super().__init__()\n",
        "    self.conv1 = nn.Conv2d(1,6,3,1)\n",
        "    self.conv2 = nn.Conv2d(6,16,3,1)\n",
        "    # Fully Connected Layers\n",
        "    self.fc1 = nn.Linear(5*5*16, 120)\n",
        "    self.fc2 = nn.Linear(120, 84)\n",
        "    self.fc3 = nn.Linear(84, 10)\n",
        "\n",
        "  def forward(self, x):\n",
        "    x = F.relu(self.conv1(x))\n",
        "    x = F.max_pool2d(x, 2, 2) #2x2 kernel and stride 2\n",
        "    # Second Pass\n",
        "    x = F.relu(self.conv2(x))\n",
        "    x = F.max_pool2d(x, 2, 2)\n",
        "\n",
        "    # Re-view to flatten it out\n",
        "    x = x.view(-1, 16*5*5)\n",
        "\n",
        "    # Fully Connected Layers\n",
        "    x = F.relu(self.fc1(x))\n",
        "    x = F.relu(self.fc2(x))\n",
        "    x = self.fc3(x)\n",
        "\n",
        "    return F.log_softmax(x, dim=1)\n"
      ],
      "metadata": {
        "id": "iSBqyu1lb2-5"
      },
      "execution_count": 40,
      "outputs": []
    },
    {
      "cell_type": "code",
      "source": [
        "# Create an Instance of our Model\n",
        "torch.manual_seed(41)\n",
        "model = ConvolutionalNetwork()\n",
        "model"
      ],
      "metadata": {
        "id": "hiI0skpSfLxc",
        "outputId": "f595f0ae-7280-413d-a506-354456b8a190",
        "colab": {
          "base_uri": "https://localhost:8080/"
        }
      },
      "execution_count": 41,
      "outputs": [
        {
          "output_type": "execute_result",
          "data": {
            "text/plain": [
              "ConvolutionalNetwork(\n",
              "  (conv1): Conv2d(1, 6, kernel_size=(3, 3), stride=(1, 1))\n",
              "  (conv2): Conv2d(6, 16, kernel_size=(3, 3), stride=(1, 1))\n",
              "  (fc1): Linear(in_features=400, out_features=120, bias=True)\n",
              "  (fc2): Linear(in_features=120, out_features=84, bias=True)\n",
              "  (fc3): Linear(in_features=84, out_features=10, bias=True)\n",
              ")"
            ]
          },
          "metadata": {},
          "execution_count": 41
        }
      ]
    },
    {
      "cell_type": "code",
      "source": [
        "# Loss Function Optimizer\n",
        "criterion = nn.CrossEntropyLoss()\n",
        "optimizer = torch.optim.Adam(model.parameters(), lr=0.001)"
      ],
      "metadata": {
        "id": "4Q3_l6zRfiF3"
      },
      "execution_count": 42,
      "outputs": []
    },
    {
      "cell_type": "code",
      "source": [
        "import time\n",
        "start_time = time.time()\n",
        "train_loader = DataLoader(train_data, batch_size = 10, shuffle = True)\n",
        "test_loader = DataLoader(test_data, batch_size = 10, shuffle = False)\n",
        "# Create Variables To Tracks Things\n",
        "epochs = 5\n",
        "train_losses = []\n",
        "test_losses = []\n",
        "train_correct = []\n",
        "test_correct = []\n",
        "\n",
        "# For Loop of Epochs\n",
        "for i in range(epochs):\n",
        "  trn_corr = 0\n",
        "  tst_corr = 0\n",
        "\n",
        "  #Train\n",
        "  for b, (X_Train, y_train) in enumerate(train_loader):\n",
        "    b+=1 # Start our batches at 1\n",
        "    y_pred = model(X_Train) # Get Predicted values from the training set (2D)\n",
        "    loss = criterion(y_pred, y_train) # Compare the predicted values\n",
        "\n",
        "    predicted = torch.max(y_pred.data, 1)[1] # add up the number of correct predictions.Indexed off the first point\n",
        "    batch_corr = (predicted == y_train).sum() # How many we got correct from this batch. True = 1, False = 0, sum those up\n",
        "    trn_corr += batch_corr # keep track as we go along in training.\n",
        "\n",
        "    # Update Our Parameters\n",
        "    optimizer.zero_grad()\n",
        "    loss.backward()\n",
        "    optimizer.step()\n",
        "\n",
        "    # Print the results\n",
        "    if b%600 == 0:\n",
        "      print(f'Epoch: {i}  Batch: {b}  Loss: {loss.item()}')\n",
        "\n",
        "  train_losses.append(loss.item())\n",
        "  train_correct.append(trn_corr)\n",
        "\n",
        "  #  Test\n",
        "  with torch.no_grad(): # No gradient so we don't update our weight and bias test data\n",
        "    for b, (X_test, y_test) in enumerate(test_loader):\n",
        "      y_val = model(X_test)\n",
        "      predicted  = torch.max(y_val.data, 1)[1] # Adding up correct predictions\n",
        "      tst_corr += (predicted == y_test).sum() # T=1 F=0 and sum away\n",
        "\n",
        "  loss = criterion(y_val, y_test)\n",
        "  test_losses.append(loss)\n",
        "  test_correct.append(tst_corr)\n",
        "\n",
        "\n",
        "current_time = time.time()\n",
        "total = current_time - start_time\n",
        "print(f'Training Took: {total/60} minutes! ')\n"
      ],
      "metadata": {
        "id": "tWCzJ22sY6T_",
        "colab": {
          "base_uri": "https://localhost:8080/"
        },
        "outputId": "9723276f-1ec9-471f-e77c-fff3c232ac1d"
      },
      "execution_count": 33,
      "outputs": [
        {
          "output_type": "stream",
          "name": "stdout",
          "text": [
            "Epoch: 0  Batch: 600  Loss: 0.00036099221324548125\n",
            "Epoch: 0  Batch: 1200  Loss: 0.0001712304074317217\n",
            "Epoch: 0  Batch: 1800  Loss: 0.0005378525820560753\n",
            "Epoch: 0  Batch: 2400  Loss: 0.027378559112548828\n",
            "Epoch: 0  Batch: 3000  Loss: 0.0002596829435788095\n",
            "Epoch: 0  Batch: 3600  Loss: 8.657989383209497e-05\n",
            "Epoch: 0  Batch: 4200  Loss: 0.00040106248343363404\n",
            "Epoch: 0  Batch: 4800  Loss: 1.2349883036222309e-05\n",
            "Epoch: 0  Batch: 5400  Loss: 0.00046615247265435755\n",
            "Epoch: 0  Batch: 6000  Loss: 0.000162848416948691\n",
            "Epoch: 1  Batch: 600  Loss: 6.399912672350183e-05\n",
            "Epoch: 1  Batch: 1200  Loss: 0.0002539866545703262\n",
            "Epoch: 1  Batch: 1800  Loss: 0.0003175207821186632\n",
            "Epoch: 1  Batch: 2400  Loss: 8.683211490279064e-05\n",
            "Epoch: 1  Batch: 3000  Loss: 0.00015392867499031126\n",
            "Epoch: 1  Batch: 3600  Loss: 0.12387670576572418\n",
            "Epoch: 1  Batch: 4200  Loss: 0.00015394852380268276\n",
            "Epoch: 1  Batch: 4800  Loss: 0.00032526275026611984\n",
            "Epoch: 1  Batch: 5400  Loss: 0.08193918317556381\n",
            "Epoch: 1  Batch: 6000  Loss: 1.2692201137542725\n",
            "Epoch: 2  Batch: 600  Loss: 0.0010589142329990864\n",
            "Epoch: 2  Batch: 1200  Loss: 9.465120820095763e-05\n",
            "Epoch: 2  Batch: 1800  Loss: 0.10291097313165665\n",
            "Epoch: 2  Batch: 2400  Loss: 0.00014002497482579201\n",
            "Epoch: 2  Batch: 3000  Loss: 6.192003638716415e-05\n",
            "Epoch: 2  Batch: 3600  Loss: 0.0012006486067548394\n",
            "Epoch: 2  Batch: 4200  Loss: 6.576084706466645e-05\n",
            "Epoch: 2  Batch: 4800  Loss: 0.00023535157379228622\n",
            "Epoch: 2  Batch: 5400  Loss: 0.011907427571713924\n",
            "Epoch: 2  Batch: 6000  Loss: 0.008670629002153873\n",
            "Epoch: 3  Batch: 600  Loss: 7.259742233145516e-06\n",
            "Epoch: 3  Batch: 1200  Loss: 0.00014852435560896993\n",
            "Epoch: 3  Batch: 1800  Loss: 0.0007951410370878875\n",
            "Epoch: 3  Batch: 2400  Loss: 0.00021003276924602687\n",
            "Epoch: 3  Batch: 3000  Loss: 8.365988469449803e-05\n",
            "Epoch: 3  Batch: 3600  Loss: 0.0003493715194053948\n",
            "Epoch: 3  Batch: 4200  Loss: 0.0032437231857329607\n",
            "Epoch: 3  Batch: 4800  Loss: 3.01597424368083e-06\n",
            "Epoch: 3  Batch: 5400  Loss: 0.0008902125991880894\n",
            "Epoch: 3  Batch: 6000  Loss: 0.08935810625553131\n",
            "Epoch: 4  Batch: 600  Loss: 0.0008935973164625466\n",
            "Epoch: 4  Batch: 1200  Loss: 2.5033938300111913e-07\n",
            "Epoch: 4  Batch: 1800  Loss: 0.001272804569453001\n",
            "Epoch: 4  Batch: 2400  Loss: 0.0061934697441756725\n",
            "Epoch: 4  Batch: 3000  Loss: 4.768370942542788e-08\n",
            "Epoch: 4  Batch: 3600  Loss: 1.7285237845499068e-06\n",
            "Epoch: 4  Batch: 4200  Loss: 1.8917677152785473e-05\n",
            "Epoch: 4  Batch: 4800  Loss: 0.002446130383759737\n",
            "Epoch: 4  Batch: 5400  Loss: 5.125991719978629e-07\n",
            "Epoch: 4  Batch: 6000  Loss: 0.00029948551673442125\n",
            "Training Took: 3.073211979866028 minutes! \n"
          ]
        }
      ]
    },
    {
      "cell_type": "code",
      "source": [
        "train_losses = [tl.item() for tl in train_losses]\n",
        "plt.plot(train_losses, label=\"Training Loss\")\n",
        "plt.plot(test_losses, label= \"Validation Loss\")\n",
        "plt.title(\"Loss at epochs\")\n",
        "plt.legend()\n"
      ],
      "metadata": {
        "colab": {
          "base_uri": "https://localhost:8080/",
          "height": 332
        },
        "id": "vzlbsdam-BKt",
        "outputId": "5fa33d61-9aa2-46b3-d6d1-96888114bfc0"
      },
      "execution_count": 43,
      "outputs": [
        {
          "output_type": "error",
          "ename": "AttributeError",
          "evalue": "'float' object has no attribute 'item'",
          "traceback": [
            "\u001b[0;31m---------------------------------------------------------------------------\u001b[0m",
            "\u001b[0;31mAttributeError\u001b[0m                            Traceback (most recent call last)",
            "\u001b[0;32m<ipython-input-43-2ebbdd6821ba>\u001b[0m in \u001b[0;36m<cell line: 0>\u001b[0;34m()\u001b[0m\n\u001b[0;32m----> 1\u001b[0;31m \u001b[0mtrain_losses\u001b[0m \u001b[0;34m=\u001b[0m \u001b[0;34m[\u001b[0m\u001b[0mtl\u001b[0m\u001b[0;34m.\u001b[0m\u001b[0mitem\u001b[0m\u001b[0;34m(\u001b[0m\u001b[0;34m)\u001b[0m \u001b[0;32mfor\u001b[0m \u001b[0mtl\u001b[0m \u001b[0;32min\u001b[0m \u001b[0mtrain_losses\u001b[0m\u001b[0;34m]\u001b[0m\u001b[0;34m\u001b[0m\u001b[0;34m\u001b[0m\u001b[0m\n\u001b[0m\u001b[1;32m      2\u001b[0m \u001b[0mplt\u001b[0m\u001b[0;34m.\u001b[0m\u001b[0mplot\u001b[0m\u001b[0;34m(\u001b[0m\u001b[0mtrain_losses\u001b[0m\u001b[0;34m,\u001b[0m \u001b[0mlabel\u001b[0m\u001b[0;34m=\u001b[0m\u001b[0;34m\"Training Loss\"\u001b[0m\u001b[0;34m)\u001b[0m\u001b[0;34m\u001b[0m\u001b[0;34m\u001b[0m\u001b[0m\n\u001b[1;32m      3\u001b[0m \u001b[0mplt\u001b[0m\u001b[0;34m.\u001b[0m\u001b[0mplot\u001b[0m\u001b[0;34m(\u001b[0m\u001b[0mtest_losses\u001b[0m\u001b[0;34m,\u001b[0m \u001b[0mlabel\u001b[0m\u001b[0;34m=\u001b[0m \u001b[0;34m\"Validation Loss\"\u001b[0m\u001b[0;34m)\u001b[0m\u001b[0;34m\u001b[0m\u001b[0;34m\u001b[0m\u001b[0m\n\u001b[1;32m      4\u001b[0m \u001b[0mplt\u001b[0m\u001b[0;34m.\u001b[0m\u001b[0mtitle\u001b[0m\u001b[0;34m(\u001b[0m\u001b[0;34m\"Loss at epochs\"\u001b[0m\u001b[0;34m)\u001b[0m\u001b[0;34m\u001b[0m\u001b[0;34m\u001b[0m\u001b[0m\n\u001b[1;32m      5\u001b[0m \u001b[0mplt\u001b[0m\u001b[0;34m.\u001b[0m\u001b[0mlegend\u001b[0m\u001b[0;34m(\u001b[0m\u001b[0;34m)\u001b[0m\u001b[0;34m\u001b[0m\u001b[0;34m\u001b[0m\u001b[0m\n",
            "\u001b[0;32m<ipython-input-43-2ebbdd6821ba>\u001b[0m in \u001b[0;36m<listcomp>\u001b[0;34m(.0)\u001b[0m\n\u001b[0;32m----> 1\u001b[0;31m \u001b[0mtrain_losses\u001b[0m \u001b[0;34m=\u001b[0m \u001b[0;34m[\u001b[0m\u001b[0mtl\u001b[0m\u001b[0;34m.\u001b[0m\u001b[0mitem\u001b[0m\u001b[0;34m(\u001b[0m\u001b[0;34m)\u001b[0m \u001b[0;32mfor\u001b[0m \u001b[0mtl\u001b[0m \u001b[0;32min\u001b[0m \u001b[0mtrain_losses\u001b[0m\u001b[0;34m]\u001b[0m\u001b[0;34m\u001b[0m\u001b[0;34m\u001b[0m\u001b[0m\n\u001b[0m\u001b[1;32m      2\u001b[0m \u001b[0mplt\u001b[0m\u001b[0;34m.\u001b[0m\u001b[0mplot\u001b[0m\u001b[0;34m(\u001b[0m\u001b[0mtrain_losses\u001b[0m\u001b[0;34m,\u001b[0m \u001b[0mlabel\u001b[0m\u001b[0;34m=\u001b[0m\u001b[0;34m\"Training Loss\"\u001b[0m\u001b[0;34m)\u001b[0m\u001b[0;34m\u001b[0m\u001b[0;34m\u001b[0m\u001b[0m\n\u001b[1;32m      3\u001b[0m \u001b[0mplt\u001b[0m\u001b[0;34m.\u001b[0m\u001b[0mplot\u001b[0m\u001b[0;34m(\u001b[0m\u001b[0mtest_losses\u001b[0m\u001b[0;34m,\u001b[0m \u001b[0mlabel\u001b[0m\u001b[0;34m=\u001b[0m \u001b[0;34m\"Validation Loss\"\u001b[0m\u001b[0;34m)\u001b[0m\u001b[0;34m\u001b[0m\u001b[0;34m\u001b[0m\u001b[0m\n\u001b[1;32m      4\u001b[0m \u001b[0mplt\u001b[0m\u001b[0;34m.\u001b[0m\u001b[0mtitle\u001b[0m\u001b[0;34m(\u001b[0m\u001b[0;34m\"Loss at epochs\"\u001b[0m\u001b[0;34m)\u001b[0m\u001b[0;34m\u001b[0m\u001b[0;34m\u001b[0m\u001b[0m\n\u001b[1;32m      5\u001b[0m \u001b[0mplt\u001b[0m\u001b[0;34m.\u001b[0m\u001b[0mlegend\u001b[0m\u001b[0;34m(\u001b[0m\u001b[0;34m)\u001b[0m\u001b[0;34m\u001b[0m\u001b[0;34m\u001b[0m\u001b[0m\n",
            "\u001b[0;31mAttributeError\u001b[0m: 'float' object has no attribute 'item'"
          ]
        }
      ]
    }
  ]
}